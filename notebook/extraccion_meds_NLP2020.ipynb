{
 "cells": [
  {
   "cell_type": "markdown",
   "metadata": {},
   "source": [
    "# Escuela de Verano 2020\n",
    "\n",
    "# Extracción de medicamentos a partir de notas clínicas"
   ]
  },
  {
   "cell_type": "markdown",
   "metadata": {},
   "source": [
    "### Objectivo:\n",
    "A partir de un conjunto de textos especializados (notas clínicas) extraer los tratamientos clínicos administrados a pacientes con enfermedades cardiovasculares y respiratorias.\n",
    "\n",
    "#### Descripción de la base de datos:\n",
    "Se extrajeron un total de 70 notas clínicas de pacientes con enfermedades cardiovasculares del sitio [MTSAMPLES](https://www.mtsamples.com).\n",
    "\n",
    "Las notas corresponden a consultas médicas, reportes de procedimientos y cartas médicas. Cada una de las notas describe los medicamentos administrados a los pacientes."
   ]
  },
  {
   "cell_type": "markdown",
   "metadata": {},
   "source": [
    "## Carga de datos"
   ]
  },
  {
   "cell_type": "code",
   "execution_count": 1,
   "metadata": {},
   "outputs": [
    {
     "name": "stdout",
     "output_type": "stream",
     "text": [
      "Tamaño del dataset : (70, 2)\n",
      "   subject_id                                               text\n",
      "0         101  A lady was admitted to the hospital with chest...\n",
      "1         102  Patient with palpitations and recent worsening...\n",
      "2         103  The patient is a very pleasant 62-year-old Afr...\n",
      "3         104  Patient with significant angina with moderate ...\n",
      "4         105  This 57-year-old black female was seen in my o...\n"
     ]
    }
   ],
   "source": [
    "import pandas as pd\n",
    "\n",
    "url_notas = '../notas/data_set.csv' #ubicación de las notas clínicas\n",
    "df = pd.read_csv(url_notas)\n",
    "print(\"Tamaño del dataset :\", df.shape)\n",
    "print(df.head())"
   ]
  },
  {
   "cell_type": "code",
   "execution_count": 2,
   "metadata": {
    "scrolled": true
   },
   "outputs": [
    {
     "name": "stdout",
     "output_type": "stream",
     "text": [
      "----------------------------------------------\n",
      "Nota: 1\n",
      "A lady was admitted to the hospital with chest pain and respiratory insufficiency. She has chronic lung disease with bronchospastic angina. (Medical Transcription Sample Report) Ms. ABCD is a 69-year-old lady, who was admitted to the hospital with chest pain and respiratory insufficiency. She has chronic lung disease with bronchospastic angina. We discovered new T-wave abnormalities on her EKG. There was of course a four-vessel bypass surgery in 2001. We did a coronary angiogram. This demonstrated patent vein grafts and patent internal mammary vessel and so there was no obvious new disease. She may continue in the future to have angina and she will have nitroglycerin available for that if needed. Her blood pressure has been elevated and so instead of metoprolol, we have started her on Coreg 6.25 mg, captopril and heparin. This should be increased up to 25 mg b.i.d. as preferred antihypertensive in this lady's case. She also is on Plavix, clopidogrel, vancomycin, Lasix and aspirin\n",
      "----------------------------------------------\n",
      "Nota: 2\n",
      "Patient with palpitations and recent worsening of chronic chest discomfort. (Medical Transcription Sample Report) CHIEF COMPLAINT: Palpitations. Pt takes propofol. CHEST PAIN / UNSPECIFIED ANGINA PECTORIS HISTORY: The patient relates the recent worsening of chronic chest discomfort. The quality of the pain is sharp and the problem started 2 years ago. Pain radiates to the back and condition is best described as severe. Patient denies syncope. Beyond baseline at present time. Past work up has included 24 hour Holter monitoring and echocardiography. Holter showed PVCs. Range of motion is normal. There is no cyanosis, clubbing or edema. General: Healthy appearing, well developed. The patient is in no acute distress. Exam Skin Negative to inspection or palpation. There are no obvious lesions or new rashes noted. Non-diaphoretic.Exam Ears Canals are clear. Throat is not injected. Tonsils are not swollen or injected. Exam Neck: There is no thyromegaly, carotid bruits, lymphadenopathy, or JVD. Neck is supple. Exam Respiratory: Normal breath sounds are heard bilaterally. There is no wheezing. There is no use of accessory muscles. Exam Cardiovascular: Regular heart rate and rhythm, Normal S1 and S2 without murmur, gallops or rubs. IMPRESSION / DIAGNOSIS: Mitral Valve Prolapse. Palpitations. TESTS ORDERED: Cardiac tests: Echocardiogram. MEDICATION PRESCRIBED: Cardizem, Lopressor,lisinopril and not aspirin. Also, clopidrogel, isosorbide, and captopril. PLAN: The patient was reassured about the current condition and symptoms. The patient understood the explanations and is agreeable.\n"
     ]
    }
   ],
   "source": [
    "#Revisamos algunas notas\n",
    "for i in range(2):\n",
    "    print(\"----------------------------------------------\")\n",
    "    print(f\"Nota: {i+1}\")\n",
    "    print(df.loc[i, 'text'])"
   ]
  },
  {
   "cell_type": "code",
   "execution_count": 3,
   "metadata": {},
   "outputs": [],
   "source": [
    "\"\"\"Pre-procesamiento de las notas clínicas\"\"\"\n",
    "import re\n",
    "\n",
    "def clean(sentencia):\n",
    "    sentencia_minus = sentencia.lower() #se convierten el texto a minúsculas\n",
    "    sentence_corregida = re.sub('and/or', 'or', sentencia_minus) #increase captopril and/or lopressor\n",
    "    sentence_corregida = re.sub('(?<=[a-zA-Z])/(?=[a-zA-Z])', ' or ', sentence_corregida) #captopril/lopressor\n",
    "    #sentence_corregida = re.sub(r'\\W', ' ', sentence_corregida)\n",
    "    sentencia_lista = sentence_corregida.replace(\"..\", \".\") #se reemplaza puntos suspensivos por un punto\n",
    "    punctuation_spacer = str.maketrans({key: f\"{key} \" for key in \".,\"}) #se inserta un espacio después de punto o coma\n",
    "    sentencia_lista = sentencia_lista.translate(punctuation_spacer)\n",
    "    sentencia_lista = ' '.join(sentencia_lista.split()) #se convierte múltiples espacios a un espacio\n",
    "    return sentencia_lista"
   ]
  },
  {
   "cell_type": "markdown",
   "metadata": {},
   "source": [
    "## Analizando las notas clínicas con BioC y NegBio"
   ]
  },
  {
   "cell_type": "markdown",
   "metadata": {},
   "source": [
    "#### ¿Qué es BioC?\n",
    "- Es una biblioteca para convertir datos clínicos a un formato estándar que es usado para tareas de serialización y deserialización de datos en formato XML. Para más detalles visitar su [página oficial](http://bioc.sourceforge.net/).\n",
    "\n",
    "Particularmente, utilizaremos el objeto `BioCCollection`, el cual toma una colección de datos y los serializa en formato cadena. La colección puede ser un corpus completo o parcial. Además se utilizará la función `text2bioc()` la cual se encarga de transformar el texto hacia formato XML de BioC.\n"
   ]
  },
  {
   "cell_type": "code",
   "execution_count": 4,
   "metadata": {},
   "outputs": [
    {
     "name": "stdout",
     "output_type": "stream",
     "text": [
      "Atributos: \n",
      "\n",
      "{'encoding': 'utf-8', 'version': '1.0', 'standalone': True, 'source': '', 'date': '2020-09-02', 'key': '', 'infons': {}, 'documents': []}\n",
      "\n",
      "Métodos: \n",
      "\n",
      "['__class__', '__delattr__', '__dict__', '__dir__', '__doc__', '__eq__', '__format__', '__ge__', '__getattribute__', '__gt__', '__hash__', '__init__', '__init_subclass__', '__le__', '__lt__', '__module__', '__ne__', '__new__', '__reduce__', '__reduce_ex__', '__repr__', '__setattr__', '__sizeof__', '__str__', '__subclasshook__', '__weakref__', 'add_document', 'clear_infons', 'date', 'documents', 'encoding', 'infons', 'key', 'source', 'standalone', 'version']\n",
      "\n",
      "Número de documentos en la colección: []\n"
     ]
    }
   ],
   "source": [
    "import bioc\n",
    "\n",
    "collection = bioc.BioCCollection()\n",
    "print(f\"Atributos: \\n\\n{collection.__dict__}\\n\")\n",
    "print(f\"Métodos: \\n\\n{dir(collection)}\\n\")\n",
    "print(f\"Número de documentos en la colección: {collection.documents}\")"
   ]
  },
  {
   "cell_type": "markdown",
   "metadata": {},
   "source": [
    "#### ¿Qué es NegBio?\n",
    "- Es una biblioteca diseñada para distinguir hallazgos negativos o inciertos en textos clínicos, particularmente en informes de radiología. NegBio trabaja particularmente con patrones sobre dependencias universales. Para más detalles visitar el sitio de [GitHub](https://github.com/ncbi-nlp/NegBio) o su [documentación oficial](https://negbio.readthedocs.io/en/latest/index.html).\n",
    "\n",
    "Usaremos la función `NegBioSSplitter()` la cual se encarga de separar los textos en sentencias para su procesamiento."
   ]
  },
  {
   "cell_type": "code",
   "execution_count": 5,
   "metadata": {},
   "outputs": [],
   "source": [
    "from negbio.pipeline.ssplit import NegBioSSplitter\n",
    "from negbio.pipeline import text2bioc\n",
    "import StanfordDependencies\n",
    "\n",
    "def colleccion_bioc_notas(df):\n",
    "    collection = bioc.BioCCollection() #toma una colección de datos y los serializa a cadena\n",
    "    split = NegBioSSplitter()#se instancia la función para separar los textos\n",
    "    for i, report in enumerate(df[\"text\"]):\n",
    "        sentencia = text2bioc.text2document(str(i), clean(report)) #transforma la sentencia en formato XML\n",
    "        sentencia = split.split_doc(sentencia)#separa los textos en sentencias\n",
    "        collection.add_document(sentencia) #se añade la sentencia a la colección\n",
    "    return collection"
   ]
  },
  {
   "cell_type": "code",
   "execution_count": 6,
   "metadata": {
    "collapsed": true
   },
   "outputs": [
    {
     "name": "stderr",
     "output_type": "stream",
     "text": [
      "WARNING:root:Cannot convert char: ’\n"
     ]
    }
   ],
   "source": [
    "\"\"\"Transformación de las notas clínicas en formato Bio, pasando por la función de pre-procesamiento\"\"\"\n",
    "collection = colleccion_bioc_notas(df)"
   ]
  },
  {
   "cell_type": "code",
   "execution_count": 19,
   "metadata": {},
   "outputs": [
    {
     "data": {
      "text/plain": [
       "70"
      ]
     },
     "execution_count": 19,
     "metadata": {},
     "output_type": "execute_result"
    }
   ],
   "source": [
    "len(collection.documents)"
   ]
  },
  {
   "cell_type": "markdown",
   "metadata": {},
   "source": [
    "## Importar dependencias de NegBio y de la ontología clínica\n",
    "\n"
   ]
  },
  {
   "cell_type": "code",
   "execution_count": 9,
   "metadata": {},
   "outputs": [],
   "source": [
    "from pathlib2 import Path\n",
    "from negbio.neg.neg_detector import Detector\n",
    "from negbio.main_mm import pipeline\n",
    "from negbio.cli_utils import parse_args, get_absolute_path\n",
    "from negbio.pipeline import negdetect, text2bioc, dner_mm\n",
    "from negbio.negbio_dner_matamap import read_cuis\n",
    "from negbio.pipeline.parse import NegBioParser\n",
    "from negbio.pipeline.ssplit import NegBioSSplitter\n",
    "from negbio.pipeline.ptb2ud import NegBioPtb2DepConverter, Lemmatizer\n",
    "import pymetamap\n",
    "\n",
    "#NegBio emplea el parser BLIPP, el cual es un analizador estadístico de lenguaje natural.\n",
    "PARSING_MODEL_DIR = \"~/.local/share/bllipparser/GENIA+PubMed\" #corpus biomédicos anotados\n",
    "\n",
    "#Se importan los archivos con los patrones de negación e incerdumbre\n",
    "POST_NEG_PATH = \"../NegBio/negbio/patterns/uncertainty_patterns.txt\"\n",
    "NEG_PATH = \"../NegBio/negbio/patterns/neg_patterns.txt\""
   ]
  },
  {
   "cell_type": "code",
   "execution_count": 10,
   "metadata": {},
   "outputs": [
    {
     "name": "stdout",
     "output_type": "stream",
     "text": [
      "\r\n",
      "{} >{dependency:/neg/} {}\r\n",
      "{} >{} {lemma:/no/}\r\n",
      "{} >{dependency:/case/} {lemma:/without/}\r\n",
      "\r\n",
      "# rather than XXX\r\n",
      "{} <{dependency:/conj:negcc/} {}\r\n",
      "{} <{dependency:/nmod:without/} {}\r\n",
      "{} <{dependency:/conj:versus/} {}\r\n",
      "{} <{dependency:/nmod:without|nmod:of/} {lemma:/clear|clearing/}=key\r\n",
      "{} <{dependency:/nmod:out/} {lemma:/rule/}=key\r\n",
      "{} <{dependency:/nmod:of/} {lemma:/history|free|disappearance|resolution|drainage|resolution|removal/}\r\n",
      "{} <{dependency:/nmod:for/} {lemma:/negative/}\r\n",
      "{} <{} {lemma:/resolve|resolving|exclude/}=key\r\n",
      "{} <{dependency:/advmod|dep|conj:or/} {lemma:/no/}\r\n",
      "\r\n",
      "# XXX has resolved\r\n",
      "{} <{dependency:/nsubj/} ({lemma:/resolve/}=key >{dependency:/aux/} {})\r\n",
      "\r\n",
      "# there is no XXX\r\n",
      "{} <{dependency:/nsubj/} ({lemma:/be/} >{} {lemma:/no/})\r\n",
      "\r\n",
      "# without evidence|finding of|for XXX\r\n",
      "{} <{dependency:/nmod:of|nmod:for/} ({lemma:/evidence|finding/} <{dependency:/nmod:without/} {})\r\n",
      "\r\n",
      "# no evidence of|for XXX\r\n",
      "{} <{dependency:/nmod:of|nmod:for/} ({lemma:/evidence/} >{dependency:/neg/} {})\r\n",
      "\r\n",
      "# without evidence|finding of|for XXX\r\n",
      "{} <{dependency:/nmod:of|nmod:for/} ({lemma:/evidence|finding/} >{} {lemma:/without/})\r\n",
      "\r\n",
      "# no focus of XXX\r\n",
      "{} <{dependency:/nmod:of/} ({lemma:/focus/} >{dependency:/neg/} {})\r\n",
      "{} <{dependency:/nmod:of/} ({lemma:/focus/} >{} {lemma:/no/})\r\n",
      "\r\n",
      "# no moderate to XXX\r\n",
      "{} <{dependency:/nmod:to/} ({lemma:/moderate/} >{dependency:/neg/} {})\r\n",
      "\r\n",
      "# no evidence of developing XXX\r\n",
      "{} <{} ({lemma:/developing/} <{} ({lemma:/evidence/} <{dependency:/nmod:without/} {}))\r\n",
      "{} <{} ({lemma:/developing/} <{} ({lemma:/evidence/} >{} {lemma:/no/}))\r\n",
      "\r\n",
      "# no focal XXX\r\n",
      "{} <{dependency:/dobj/} ({} >{dependency:/nsubj/} {lemma:/no/})\r\n",
      "\r\n",
      "# do not demonstrate|visualize XXX\r\n",
      "# XXX is not demonstrated/visualized\r\n",
      "{} <{dependency:/dobj|nsubjpass/} ({lemma:/demonstrate|visualize/} >{dependency:/neg/} {})\r\n",
      "\r\n",
      "# XXX is previously demonstrated/visualized\r\n",
      "{} <{dependency:/dobj|nsubjpass/} ({lemma:/demonstrate|visualize/} >{} {lemma:/previously/})\r\n",
      "\r\n",
      "# there is no NN to suggest/explain XXX\r\n",
      "{} <{dependency:/dobj/} ({tag:/V.*/} <{} ({tag:/N.*/} >{dependency:/neg/} {}))\r\n",
      "\r\n",
      "# no NN to suggest/explain XXX\r\n",
      "{} <{dependency:/dobj/} ({tag:/V.*/} >{} ({tag:/N.*/} >{dependency:/neg/} {}))"
     ]
    }
   ],
   "source": [
    "!cat $NEG_PATH"
   ]
  },
  {
   "cell_type": "markdown",
   "metadata": {},
   "source": [
    "#### Instanciamos UMLS e indicamos los medicamentos a extraer\n",
    "\n",
    "Para que la ontología funcione correctamente, debe tomar en cuenta que:\n",
    "- La ontología esté instalada localmente [Descarga](https://metamap.nlm.nih.gov/MainDownload.shtml)\n",
    "- Los servidores `skrmedpostctl` y `wsdserverctl` deben estar activos [Instalación](https://metamap.nlm.nih.gov/Installation.shtml)"
   ]
  },
  {
   "cell_type": "code",
   "execution_count": 11,
   "metadata": {},
   "outputs": [],
   "source": [
    "\"Instanciamos la ontología\"\n",
    "ontologia_clinica = pymetamap.MetaMap.get_instance(\"/home/blanca/Documents/METAMAP_Lite/public_mm/bin/metamap20\")\n",
    "\"Indicamos los CUIS de los medicamentos a extraer\"\n",
    "url_cuis= '../notas/cuis.txt'\n",
    "cuis = read_cuis(url_cuis)#se lee los CUIS de los medicamentos que serán extraídos"
   ]
  },
  {
   "cell_type": "code",
   "execution_count": 12,
   "metadata": {},
   "outputs": [],
   "source": [
    "\"Se instancia el lematizador de NegBio\"\n",
    "lemmatizer = Lemmatizer() #Devuelve el lema de cada palabra."
   ]
  },
  {
   "cell_type": "markdown",
   "metadata": {},
   "source": [
    "Vamos a instanciar la función de `NegBioPtb2DepConverter()` de NegBio.\n",
    "Convierte de un análisis de árbol hacia dependencias universales usando la herramienta de [Stanford converter](https://github.com/dmcc/PyStanfordDependencies)\n",
    "\n",
    "- El análisis de árbol usado es [`Penn Treebank`](https://catalog.ldc.upenn.edu/docs/LDC95T7/cl93.html): corpus anotado que incluye etiquetas adicionales al etiquetado del POS.\n",
    "- Las [`dependencias universales`](https://universaldependencies.org/): proporcionan un marco de trabajo para anotar la gramática en diferentes idiomas."
   ]
  },
  {
   "cell_type": "code",
   "execution_count": 13,
   "metadata": {},
   "outputs": [],
   "source": [
    "ptb2dep = NegBioPtb2DepConverter(lemmatizer, universal=True)\n",
    "ssplitter = NegBioSSplitter(newline=True) ##se instancia la función para separar los textos\n",
    "parser = NegBioParser(model_dir=PARSING_MODEL_DIR) #\"~/.local/share/bllipparser/GENIA+PubMed\""
   ]
  },
  {
   "cell_type": "markdown",
   "metadata": {},
   "source": [
    "Se instancia la función `Detector()` de NegBiola cual nos ayudará a determinar si existe alguna negación o incertidumbre en las notas, para lograr esto se pasan los patrones identificados previamente"
   ]
  },
  {
   "cell_type": "code",
   "execution_count": 14,
   "metadata": {},
   "outputs": [],
   "source": [
    "negdetector = Detector(NEG_PATH, POST_NEG_PATH)"
   ]
  },
  {
   "cell_type": "markdown",
   "metadata": {},
   "source": [
    "## ¡Unimos todo!\n",
    "Usando la función `pipeline()` tomará como entrada todos los objetos instanciados previamente e identificaremos los medicamentos en las notas clínicas"
   ]
  },
  {
   "cell_type": "code",
   "execution_count": 15,
   "metadata": {},
   "outputs": [],
   "source": [
    "collection = pipeline(collection, ontologia_clinica, ssplitter,\n",
    "                      parser, ptb2dep, negdetector, cuis, None)"
   ]
  },
  {
   "cell_type": "code",
   "execution_count": 16,
   "metadata": {},
   "outputs": [
    {
     "data": {
      "text/plain": [
       "BioCDocument[id=0,infons=[],passages=[BioCPassage[offset=0,text='a lady was admitt ... lasix and aspirin',infons=[],sentences=[],annotations=[BioCAnnotation[id=0,text='metoprolol',infons=[CUI=C0025859,semtype=orch,phsu,term=metoprolol,annotator=MetaMap],locations=[BioCLocation[offset=761,length=10]],],BioCAnnotation[id=1,text='captopril',infons=[CUI=C0006938,semtype=aapp,phsu,term=captopril,annotator=MetaMap],locations=[BioCLocation[offset=812,length=9]],],BioCAnnotation[id=2,text='heparin',infons=[CUI=C0019134,semtype=bacs,orch,phsu,term=heparin,annotator=MetaMap],locations=[BioCLocation[offset=826,length=7]],],BioCAnnotation[id=3,text='lasix',infons=[CUI=C0699992,semtype=orch,phsu,term=Lasix,annotator=MetaMap],locations=[BioCLocation[offset=980,length=5]],],BioCAnnotation[id=4,text='aspirin',infons=[CUI=C0004057,semtype=orch,phsu,term=aspirin,annotator=MetaMap],locations=[BioCLocation[offset=990,length=7]],],BioCAnnotation[id=5,text='clopidogrel',infons=[CUI=C0070166,semtype=orch,phsu,term=clopidogrel,annotator=MetaMap],locations=[BioCLocation[offset=955,length=11]],],BioCAnnotation[id=6,text='vancomycin',infons=[CUI=C0042313,semtype=aapp,antb,term=vancomycin,annotator=MetaMap],locations=[BioCLocation[offset=968,length=10]],],BioCAnnotation[id=7,text='plavix',infons=[CUI=C0633084,semtype=orch,phsu,term=Plavix,annotator=MetaMap],locations=[BioCLocation[offset=947,length=6]],]],relations=[],]],annotations=[],relations=[],]"
      ]
     },
     "execution_count": 16,
     "metadata": {},
     "output_type": "execute_result"
    }
   ],
   "source": [
    "collection.documents[0]"
   ]
  },
  {
   "cell_type": "markdown",
   "metadata": {},
   "source": [
    "## Visualizamos los resultados en un dataframe\n",
    "Con el objetivo de obtener los resultados de forma más clara, construidos un matriz que resume los medicamentos administrados para cada paciente. Cada fila indica un paciente y cada columna un medicamento, la intersección entre columnas y filas describe `1` si el medicamento fue administrado y `0` si el medicamento no fue administrado."
   ]
  },
  {
   "cell_type": "code",
   "execution_count": 17,
   "metadata": {},
   "outputs": [
    {
     "name": "stdout",
     "output_type": "stream",
     "text": [
      "{'CUI': 'C0025859', 'semtype': 'orch,phsu', 'term': 'metoprolol', 'annotator': 'MetaMap'}\n",
      "{'CUI': 'C0006938', 'semtype': 'aapp,phsu', 'term': 'captopril', 'annotator': 'MetaMap'}\n",
      "{'CUI': 'C0019134', 'semtype': 'bacs,orch,phsu', 'term': 'heparin', 'annotator': 'MetaMap'}\n",
      "{'CUI': 'C0699992', 'semtype': 'orch,phsu', 'term': 'Lasix', 'annotator': 'MetaMap'}\n",
      "{'CUI': 'C0004057', 'semtype': 'orch,phsu', 'term': 'aspirin', 'annotator': 'MetaMap'}\n",
      "{'CUI': 'C0070166', 'semtype': 'orch,phsu', 'term': 'clopidogrel', 'annotator': 'MetaMap'}\n",
      "{'CUI': 'C0042313', 'semtype': 'aapp,antb', 'term': 'vancomycin', 'annotator': 'MetaMap'}\n",
      "{'CUI': 'C0633084', 'semtype': 'orch,phsu', 'term': 'Plavix', 'annotator': 'MetaMap'}\n",
      "================\n",
      "{'CUI': 'C0033487', 'semtype': 'orch,phsu', 'term': 'propofol', 'annotator': 'MetaMap'}\n",
      "{'CUI': 'C0700776', 'semtype': 'orch,phsu', 'term': 'Lopressor', 'annotator': 'MetaMap', 'negation': 'True'}\n",
      "Present,  value = True\n",
      "{'CUI': 'C0065374', 'semtype': 'aapp,phsu', 'term': 'lisinopril', 'annotator': 'MetaMap', 'negation': 'True'}\n",
      "Present,  value = True\n",
      "{'CUI': 'C0004057', 'semtype': 'orch,phsu', 'term': 'aspirin', 'annotator': 'MetaMap', 'negation': 'True'}\n",
      "Present,  value = True\n",
      "{'CUI': 'C0006938', 'semtype': 'aapp,phsu', 'term': 'captopril', 'annotator': 'MetaMap'}\n",
      "{'CUI': 'C0022251', 'semtype': 'orch,phsu', 'term': 'isosorbide', 'annotator': 'MetaMap'}\n",
      "================\n",
      "{'CUI': 'C0700776', 'semtype': 'orch,phsu', 'term': 'Lopressor', 'annotator': 'MetaMap'}\n",
      "{'CUI': 'C0699129', 'semtype': 'orch,phsu', 'term': 'Coumadin', 'annotator': 'MetaMap'}\n",
      "{'CUI': 'C0003232', 'semtype': 'antb', 'term': 'Antibiotics', 'annotator': 'MetaMap'}\n",
      "{'CUI': 'C0699992', 'semtype': 'orch,phsu', 'term': 'Lasix', 'annotator': 'MetaMap'}\n",
      "{'CUI': 'C0633084', 'semtype': 'orch,phsu', 'term': 'Plavix', 'annotator': 'MetaMap'}\n",
      "{'CUI': 'C0065374', 'semtype': 'aapp,phsu', 'term': 'lisinopril', 'annotator': 'MetaMap'}\n",
      "{'CUI': 'C0723783', 'semtype': 'orch,phsu', 'term': 'Toprol-XL', 'annotator': 'MetaMap'}\n",
      "{'CUI': 'C0022251', 'semtype': 'orch,phsu', 'term': 'isosorbide', 'annotator': 'MetaMap'}\n",
      "================\n",
      "{'CUI': 'C0699129', 'semtype': 'orch,phsu', 'term': 'Coumadin', 'annotator': 'MetaMap'}\n",
      "{'CUI': 'C0700776', 'semtype': 'orch,phsu', 'term': 'Lopressor', 'annotator': 'MetaMap'}\n",
      "{'CUI': 'C0025859', 'semtype': 'orch,phsu', 'term': 'metoprolol', 'annotator': 'MetaMap'}\n",
      "{'CUI': 'C0042313', 'semtype': 'aapp,antb', 'term': 'vancomycin', 'annotator': 'MetaMap'}\n",
      "{'CUI': 'C0004057', 'semtype': 'orch,phsu', 'term': 'aspirin', 'annotator': 'MetaMap'}\n",
      "{'CUI': 'C0070166', 'semtype': 'orch,phsu', 'term': 'clopidogrel', 'annotator': 'MetaMap'}\n",
      "================\n",
      "{'CUI': 'C0003232', 'semtype': 'antb', 'term': 'Antibiotics', 'annotator': 'MetaMap'}\n",
      "{'CUI': 'C0004057', 'semtype': 'orch,phsu', 'term': 'aspirin', 'annotator': 'MetaMap'}\n",
      "{'CUI': 'C0025859', 'semtype': 'orch,phsu', 'term': 'metoprolol', 'annotator': 'MetaMap'}\n",
      "{'CUI': 'C0033487', 'semtype': 'orch,phsu', 'term': 'propofol', 'annotator': 'MetaMap'}\n",
      "================\n",
      "{'CUI': 'C0019134', 'semtype': 'bacs,orch,phsu', 'term': 'heparin', 'annotator': 'MetaMap'}\n",
      "{'CUI': 'C0004057', 'semtype': 'orch,phsu', 'term': 'aspirin', 'annotator': 'MetaMap', 'negation': 'True'}\n",
      "Present,  value = True\n",
      "{'CUI': 'C0025859', 'semtype': 'orch,phsu', 'term': 'metoprolol', 'annotator': 'MetaMap'}\n",
      "================\n",
      "{'CUI': 'C0019134', 'semtype': 'bacs,orch,phsu', 'term': 'heparin', 'annotator': 'MetaMap'}\n",
      "{'CUI': 'C0003232', 'semtype': 'antb', 'term': 'Antibiotics', 'annotator': 'MetaMap'}\n",
      "{'CUI': 'C0004057', 'semtype': 'orch,phsu', 'term': 'aspirin', 'annotator': 'MetaMap'}\n",
      "================\n",
      "{'CUI': 'C0019134', 'semtype': 'bacs,orch,phsu', 'term': 'heparin', 'annotator': 'MetaMap'}\n",
      "================\n",
      "================\n",
      "{'CUI': 'C0633084', 'semtype': 'orch,phsu', 'term': 'Plavix', 'annotator': 'MetaMap'}\n",
      "{'CUI': 'C0633084', 'semtype': 'orch,phsu', 'term': 'Plavix', 'annotator': 'MetaMap'}\n",
      "{'CUI': 'C0004057', 'semtype': 'orch,phsu', 'term': 'aspirin', 'annotator': 'MetaMap'}\n",
      "================\n",
      "{'CUI': 'C0633084', 'semtype': 'orch,phsu', 'term': 'Plavix', 'annotator': 'MetaMap'}\n",
      "{'CUI': 'C0004057', 'semtype': 'orch,phsu', 'term': 'aspirin', 'annotator': 'MetaMap'}\n",
      "================\n",
      "{'CUI': 'C0004057', 'semtype': 'orch,phsu', 'term': 'aspirin', 'annotator': 'MetaMap'}\n",
      "================\n",
      "{'CUI': 'C0019134', 'semtype': 'bacs,orch,phsu', 'term': 'heparin', 'annotator': 'MetaMap'}\n",
      "================\n",
      "{'CUI': 'C0723783', 'semtype': 'orch,phsu', 'term': 'Toprol-XL', 'annotator': 'MetaMap'}\n",
      "{'CUI': 'C0633084', 'semtype': 'orch,phsu', 'term': 'Plavix', 'annotator': 'MetaMap'}\n",
      "{'CUI': 'C0004057', 'semtype': 'orch,phsu', 'term': 'aspirin', 'annotator': 'MetaMap'}\n",
      "{'CUI': 'C0633084', 'semtype': 'orch,phsu', 'term': 'Plavix', 'annotator': 'MetaMap'}\n",
      "{'CUI': 'C0004057', 'semtype': 'orch,phsu', 'term': 'aspirin', 'annotator': 'MetaMap'}\n",
      "================\n",
      "{'CUI': 'C0699992', 'semtype': 'orch,phsu', 'term': 'Lasix', 'annotator': 'MetaMap'}\n",
      "================\n",
      "{'CUI': 'C0025859', 'semtype': 'orch,phsu', 'term': 'metoprolol', 'annotator': 'MetaMap'}\n",
      "{'CUI': 'C0633084', 'semtype': 'orch,phsu', 'term': 'Plavix', 'annotator': 'MetaMap'}\n",
      "================\n",
      "{'CUI': 'C0004057', 'semtype': 'orch,phsu', 'term': 'aspirin', 'annotator': 'MetaMap'}\n",
      "{'CUI': 'C0004057', 'semtype': 'orch,phsu', 'term': 'aspirin', 'annotator': 'MetaMap'}\n",
      "{'CUI': 'C0019134', 'semtype': 'bacs,orch,phsu', 'term': 'heparin', 'annotator': 'MetaMap'}\n",
      "================\n",
      "{'CUI': 'C0633084', 'semtype': 'orch,phsu', 'term': 'Plavix', 'annotator': 'MetaMap'}\n",
      "{'CUI': 'C0633084', 'semtype': 'orch,phsu', 'term': 'Plavix', 'annotator': 'MetaMap'}\n",
      "{'CUI': 'C0004057', 'semtype': 'orch,phsu', 'term': 'aspirin', 'annotator': 'MetaMap'}\n",
      "================\n",
      "{'CUI': 'C0006938', 'semtype': 'aapp,phsu', 'term': 'captopril', 'annotator': 'MetaMap', 'negation': 'True'}\n",
      "Present,  value = True\n",
      "{'CUI': 'C0022251', 'semtype': 'orch,phsu', 'term': 'isosorbide', 'annotator': 'MetaMap'}\n",
      "{'CUI': 'C0699992', 'semtype': 'orch,phsu', 'term': 'Lasix', 'annotator': 'MetaMap'}\n",
      "================\n",
      "{'CUI': 'C0004057', 'semtype': 'orch,phsu', 'term': 'aspirin', 'annotator': 'MetaMap'}\n",
      "{'CUI': 'C0019134', 'semtype': 'bacs,orch,phsu', 'term': 'heparin', 'annotator': 'MetaMap'}\n",
      "================\n",
      "{'CUI': 'C0633084', 'semtype': 'orch,phsu', 'term': 'Plavix', 'annotator': 'MetaMap'}\n",
      "{'CUI': 'C0633084', 'semtype': 'orch,phsu', 'term': 'Plavix', 'annotator': 'MetaMap'}\n",
      "{'CUI': 'C0070166', 'semtype': 'orch,phsu', 'term': 'clopidogrel', 'annotator': 'MetaMap'}\n",
      "================\n",
      "{'CUI': 'C0699992', 'semtype': 'orch,phsu', 'term': 'Lasix', 'annotator': 'MetaMap'}\n",
      "{'CUI': 'C0019134', 'semtype': 'bacs,orch,phsu', 'term': 'heparin', 'annotator': 'MetaMap'}\n",
      "================\n",
      "{'CUI': 'C0004057', 'semtype': 'orch,phsu', 'term': 'aspirin', 'annotator': 'MetaMap'}\n",
      "{'CUI': 'C0633084', 'semtype': 'orch,phsu', 'term': 'Plavix', 'annotator': 'MetaMap'}\n",
      "{'CUI': 'C0025859', 'semtype': 'orch,phsu', 'term': 'metoprolol', 'annotator': 'MetaMap'}\n",
      "{'CUI': 'C0633084', 'semtype': 'orch,phsu', 'term': 'Plavix', 'annotator': 'MetaMap'}\n",
      "{'CUI': 'C0633084', 'semtype': 'orch,phsu', 'term': 'Plavix', 'annotator': 'MetaMap'}\n",
      "{'CUI': 'C0004057', 'semtype': 'orch,phsu', 'term': 'aspirin', 'annotator': 'MetaMap'}\n",
      "================\n",
      "{'CUI': 'C0004057', 'semtype': 'orch,phsu', 'term': 'aspirin', 'annotator': 'MetaMap'}\n",
      "{'CUI': 'C0019134', 'semtype': 'bacs,orch,phsu', 'term': 'heparin', 'annotator': 'MetaMap'}\n",
      "================\n",
      "{'CUI': 'C0004057', 'semtype': 'orch,phsu', 'term': 'aspirin', 'annotator': 'MetaMap'}\n",
      "================\n",
      "{'CUI': 'C0004057', 'semtype': 'orch,phsu', 'term': 'aspirin', 'annotator': 'MetaMap'}\n",
      "{'CUI': 'C0065374', 'semtype': 'aapp,phsu', 'term': 'lisinopril', 'annotator': 'MetaMap'}\n",
      "================\n",
      "{'CUI': 'C0019134', 'semtype': 'bacs,orch,phsu', 'term': 'heparin', 'annotator': 'MetaMap'}\n",
      "{'CUI': 'C0025859', 'semtype': 'orch,phsu', 'term': 'metoprolol', 'annotator': 'MetaMap'}\n",
      "================\n",
      "{'CUI': 'C0004057', 'semtype': 'orch,phsu', 'term': 'aspirin', 'annotator': 'MetaMap'}\n",
      "{'CUI': 'C0065374', 'semtype': 'aapp,phsu', 'term': 'lisinopril', 'annotator': 'MetaMap'}\n",
      "================\n",
      "{'CUI': 'C0003232', 'semtype': 'antb', 'term': 'Antibiotics', 'annotator': 'MetaMap'}\n",
      "{'CUI': 'C0004057', 'semtype': 'orch,phsu', 'term': 'aspirin', 'annotator': 'MetaMap'}\n",
      "================\n",
      "{'CUI': 'C0003232', 'semtype': 'antb', 'term': 'Antibiotics', 'annotator': 'MetaMap'}\n",
      "{'CUI': 'C0019134', 'semtype': 'bacs,orch,phsu', 'term': 'heparin', 'annotator': 'MetaMap'}\n",
      "{'CUI': 'C0042313', 'semtype': 'aapp,antb', 'term': 'vancomycin', 'annotator': 'MetaMap'}\n",
      "================\n",
      "{'CUI': 'C0003232', 'semtype': 'antb', 'term': 'Antibiotics', 'annotator': 'MetaMap'}\n",
      "{'CUI': 'C0003232', 'semtype': 'antb', 'term': 'Antibiotics', 'annotator': 'MetaMap'}\n",
      "{'CUI': 'C0699992', 'semtype': 'orch,phsu', 'term': 'Lasix', 'annotator': 'MetaMap'}\n",
      "{'CUI': 'C0003232', 'semtype': 'antb', 'term': 'Antibiotics', 'annotator': 'MetaMap'}\n",
      "================\n",
      "{'CUI': 'C0004057', 'semtype': 'orch,phsu', 'term': 'aspirin', 'annotator': 'MetaMap'}\n",
      "================\n",
      "================\n",
      "{'CUI': 'C0700776', 'semtype': 'orch,phsu', 'term': 'Lopressor', 'annotator': 'MetaMap'}\n",
      "================\n",
      "{'CUI': 'C0004057', 'semtype': 'orch,phsu', 'term': 'aspirin', 'annotator': 'MetaMap'}\n",
      "{'CUI': 'C0042313', 'semtype': 'aapp,antb', 'term': 'vancomycin', 'annotator': 'MetaMap'}\n",
      "================\n",
      "{'CUI': 'C0003232', 'semtype': 'antb', 'term': 'Antibiotics', 'annotator': 'MetaMap'}\n",
      "{'CUI': 'C0019134', 'semtype': 'bacs,orch,phsu', 'term': 'heparin', 'annotator': 'MetaMap'}\n",
      "================\n",
      "{'CUI': 'C0019134', 'semtype': 'bacs,orch,phsu', 'term': 'heparin', 'annotator': 'MetaMap'}\n",
      "{'CUI': 'C0042313', 'semtype': 'aapp,antb', 'term': 'vancomycin', 'annotator': 'MetaMap'}\n",
      "================\n",
      "{'CUI': 'C0019134', 'semtype': 'bacs,orch,phsu', 'term': 'heparin', 'annotator': 'MetaMap'}\n",
      "{'CUI': 'C0006938', 'semtype': 'aapp,phsu', 'term': 'captopril', 'annotator': 'MetaMap'}\n",
      "{'CUI': 'C0003232', 'semtype': 'antb', 'term': 'Antibiotics', 'annotator': 'MetaMap'}\n",
      "================\n",
      "================\n",
      "{'CUI': 'C0006938', 'semtype': 'aapp,phsu', 'term': 'captopril', 'annotator': 'MetaMap'}\n",
      "================\n",
      "{'CUI': 'C0025859', 'semtype': 'orch,phsu', 'term': 'metoprolol', 'annotator': 'MetaMap'}\n",
      "================\n",
      "{'CUI': 'C0004057', 'semtype': 'orch,phsu', 'term': 'aspirin', 'annotator': 'MetaMap'}\n",
      "{'CUI': 'C0633084', 'semtype': 'orch,phsu', 'term': 'Plavix', 'annotator': 'MetaMap'}\n",
      "{'CUI': 'C0004057', 'semtype': 'orch,phsu', 'term': 'aspirin', 'annotator': 'MetaMap'}\n",
      "================\n"
     ]
    },
    {
     "name": "stdout",
     "output_type": "stream",
     "text": [
      "{'CUI': 'C0025859', 'semtype': 'orch,phsu', 'term': 'metoprolol', 'annotator': 'MetaMap'}\n",
      "{'CUI': 'C0070166', 'semtype': 'orch,phsu', 'term': 'clopidogrel', 'annotator': 'MetaMap'}\n",
      "{'CUI': 'C0025859', 'semtype': 'orch,phsu', 'term': 'metoprolol', 'annotator': 'MetaMap'}\n",
      "================\n",
      "{'CUI': 'C0699129', 'semtype': 'orch,phsu', 'term': 'Coumadin', 'annotator': 'MetaMap'}\n",
      "{'CUI': 'C0019134', 'semtype': 'bacs,orch,phsu', 'term': 'heparin', 'annotator': 'MetaMap'}\n",
      "================\n",
      "{'CUI': 'C0065374', 'semtype': 'aapp,phsu', 'term': 'lisinopril', 'annotator': 'MetaMap'}\n",
      "================\n",
      "{'CUI': 'C0699129', 'semtype': 'orch,phsu', 'term': 'Coumadin', 'annotator': 'MetaMap'}\n",
      "{'CUI': 'C0699992', 'semtype': 'orch,phsu', 'term': 'Lasix', 'annotator': 'MetaMap'}\n",
      "================\n",
      "{'CUI': 'C0065374', 'semtype': 'aapp,phsu', 'term': 'lisinopril', 'annotator': 'MetaMap'}\n",
      "{'CUI': 'C0065374', 'semtype': 'aapp,phsu', 'term': 'lisinopril', 'annotator': 'MetaMap'}\n",
      "================\n",
      "================\n",
      "{'CUI': 'C0004057', 'semtype': 'orch,phsu', 'term': 'aspirin', 'annotator': 'MetaMap'}\n",
      "{'CUI': 'C0065374', 'semtype': 'aapp,phsu', 'term': 'lisinopril', 'annotator': 'MetaMap'}\n",
      "================\n",
      "{'CUI': 'C0065374', 'semtype': 'aapp,phsu', 'term': 'lisinopril', 'annotator': 'MetaMap'}\n",
      "================\n",
      "{'CUI': 'C0065374', 'semtype': 'aapp,phsu', 'term': 'lisinopril', 'annotator': 'MetaMap'}\n",
      "{'CUI': 'C0065374', 'semtype': 'aapp,phsu', 'term': 'lisinopril', 'annotator': 'MetaMap'}\n",
      "================\n",
      "{'CUI': 'C0065374', 'semtype': 'aapp,phsu', 'term': 'lisinopril', 'annotator': 'MetaMap'}\n",
      "{'CUI': 'C0065374', 'semtype': 'aapp,phsu', 'term': 'lisinopril', 'annotator': 'MetaMap'}\n",
      "{'CUI': 'C0025859', 'semtype': 'orch,phsu', 'term': 'metoprolol', 'annotator': 'MetaMap'}\n",
      "{'CUI': 'C0004057', 'semtype': 'orch,phsu', 'term': 'aspirin', 'annotator': 'MetaMap'}\n",
      "{'CUI': 'C0033487', 'semtype': 'orch,phsu', 'term': 'propofol', 'annotator': 'MetaMap'}\n",
      "================\n",
      "{'CUI': 'C0065374', 'semtype': 'aapp,phsu', 'term': 'lisinopril', 'annotator': 'MetaMap'}\n",
      "{'CUI': 'C0025859', 'semtype': 'orch,phsu', 'term': 'metoprolol', 'annotator': 'MetaMap'}\n",
      "================\n",
      "{'CUI': 'C0004057', 'semtype': 'orch,phsu', 'term': 'aspirin', 'annotator': 'MetaMap', 'negation': 'True'}\n",
      "Present,  value = True\n",
      "================\n",
      "{'CUI': 'C0700776', 'semtype': 'orch,phsu', 'term': 'Lopressor', 'annotator': 'MetaMap'}\n",
      "================\n",
      "{'CUI': 'C0633084', 'semtype': 'orch,phsu', 'term': 'Plavix', 'annotator': 'MetaMap'}\n",
      "{'CUI': 'C0004057', 'semtype': 'orch,phsu', 'term': 'aspirin', 'annotator': 'MetaMap'}\n",
      "================\n",
      "{'CUI': 'C0699129', 'semtype': 'orch,phsu', 'term': 'Coumadin', 'annotator': 'MetaMap'}\n",
      "{'CUI': 'C0042313', 'semtype': 'aapp,antb', 'term': 'vancomycin', 'annotator': 'MetaMap', 'negation': 'True'}\n",
      "Present,  value = True\n",
      "{'CUI': 'C0033487', 'semtype': 'orch,phsu', 'term': 'propofol', 'annotator': 'MetaMap'}\n",
      "{'CUI': 'C0699129', 'semtype': 'orch,phsu', 'term': 'Coumadin', 'annotator': 'MetaMap'}\n",
      "{'CUI': 'C0699129', 'semtype': 'orch,phsu', 'term': 'Coumadin', 'annotator': 'MetaMap'}\n",
      "================\n",
      "{'CUI': 'C0019134', 'semtype': 'bacs,orch,phsu', 'term': 'heparin', 'annotator': 'MetaMap'}\n",
      "{'CUI': 'C0633084', 'semtype': 'orch,phsu', 'term': 'Plavix', 'annotator': 'MetaMap'}\n",
      "{'CUI': 'C0004057', 'semtype': 'orch,phsu', 'term': 'aspirin', 'annotator': 'MetaMap'}\n",
      "================\n",
      "{'CUI': 'C0633084', 'semtype': 'orch,phsu', 'term': 'Plavix', 'annotator': 'MetaMap'}\n",
      "{'CUI': 'C0004057', 'semtype': 'orch,phsu', 'term': 'aspirin', 'annotator': 'MetaMap'}\n",
      "{'CUI': 'C0019134', 'semtype': 'bacs,orch,phsu', 'term': 'heparin', 'annotator': 'MetaMap'}\n",
      "================\n",
      "{'CUI': 'C0019134', 'semtype': 'bacs,orch,phsu', 'term': 'heparin', 'annotator': 'MetaMap'}\n",
      "{'CUI': 'C0633084', 'semtype': 'orch,phsu', 'term': 'Plavix', 'annotator': 'MetaMap'}\n",
      "{'CUI': 'C0004057', 'semtype': 'orch,phsu', 'term': 'aspirin', 'annotator': 'MetaMap'}\n",
      "================\n",
      "{'CUI': 'C0019134', 'semtype': 'bacs,orch,phsu', 'term': 'heparin', 'annotator': 'MetaMap'}\n",
      "================\n",
      "{'CUI': 'C0633084', 'semtype': 'orch,phsu', 'term': 'Plavix', 'annotator': 'MetaMap'}\n",
      "{'CUI': 'C0004057', 'semtype': 'orch,phsu', 'term': 'aspirin', 'annotator': 'MetaMap'}\n",
      "{'CUI': 'C0699129', 'semtype': 'orch,phsu', 'term': 'Coumadin', 'annotator': 'MetaMap'}\n",
      "{'CUI': 'C0699129', 'semtype': 'orch,phsu', 'term': 'Coumadin', 'annotator': 'MetaMap'}\n",
      "{'CUI': 'C0004057', 'semtype': 'orch,phsu', 'term': 'aspirin', 'annotator': 'MetaMap'}\n",
      "================\n",
      "{'CUI': 'C0003232', 'semtype': 'antb', 'term': 'Antibiotics', 'annotator': 'MetaMap'}\n",
      "{'CUI': 'C0003232', 'semtype': 'antb', 'term': 'Antibiotics', 'annotator': 'MetaMap', 'negation': 'True'}\n",
      "Present,  value = True\n",
      "{'CUI': 'C0004057', 'semtype': 'orch,phsu', 'term': 'aspirin', 'annotator': 'MetaMap'}\n",
      "{'CUI': 'C0025859', 'semtype': 'orch,phsu', 'term': 'metoprolol', 'annotator': 'MetaMap'}\n",
      "================\n",
      "{'CUI': 'C0723783', 'semtype': 'orch,phsu', 'term': 'Toprol-XL', 'annotator': 'MetaMap'}\n",
      "{'CUI': 'C0004057', 'semtype': 'orch,phsu', 'term': 'aspirin', 'annotator': 'MetaMap'}\n",
      "================\n",
      "{'CUI': 'C0699129', 'semtype': 'orch,phsu', 'term': 'Coumadin', 'annotator': 'MetaMap'}\n",
      "{'CUI': 'C0004057', 'semtype': 'orch,phsu', 'term': 'aspirin', 'annotator': 'MetaMap'}\n",
      "{'CUI': 'C0699129', 'semtype': 'orch,phsu', 'term': 'Coumadin', 'annotator': 'MetaMap'}\n",
      "================\n",
      "{'CUI': 'C0025859', 'semtype': 'orch,phsu', 'term': 'metoprolol', 'annotator': 'MetaMap'}\n",
      "{'CUI': 'C0004057', 'semtype': 'orch,phsu', 'term': 'aspirin', 'annotator': 'MetaMap'}\n",
      "{'CUI': 'C0033487', 'semtype': 'orch,phsu', 'term': 'propofol', 'annotator': 'MetaMap'}\n",
      "================\n",
      "{'CUI': 'C0006938', 'semtype': 'aapp,phsu', 'term': 'captopril', 'annotator': 'MetaMap'}\n",
      "{'CUI': 'C0700776', 'semtype': 'orch,phsu', 'term': 'Lopressor', 'annotator': 'MetaMap'}\n",
      "================\n",
      "{'CUI': 'C0042313', 'semtype': 'aapp,antb', 'term': 'vancomycin', 'annotator': 'MetaMap', 'negation': 'True'}\n",
      "Present,  value = True\n",
      "{'CUI': 'C0033487', 'semtype': 'orch,phsu', 'term': 'propofol', 'annotator': 'MetaMap'}\n",
      "{'CUI': 'C0699992', 'semtype': 'orch,phsu', 'term': 'Lasix', 'annotator': 'MetaMap'}\n",
      "{'CUI': 'C0700776', 'semtype': 'orch,phsu', 'term': 'Lopressor', 'annotator': 'MetaMap'}\n",
      "================\n",
      "{'CUI': 'C0699992', 'semtype': 'orch,phsu', 'term': 'Lasix', 'annotator': 'MetaMap'}\n",
      "{'CUI': 'C0004057', 'semtype': 'orch,phsu', 'term': 'aspirin', 'annotator': 'MetaMap'}\n",
      "{'CUI': 'C0006938', 'semtype': 'aapp,phsu', 'term': 'captopril', 'annotator': 'MetaMap'}\n",
      "{'CUI': 'C0700776', 'semtype': 'orch,phsu', 'term': 'Lopressor', 'annotator': 'MetaMap'}\n",
      "{'CUI': 'C0006938', 'semtype': 'aapp,phsu', 'term': 'captopril', 'annotator': 'MetaMap'}\n",
      "{'CUI': 'C0042313', 'semtype': 'aapp,antb', 'term': 'vancomycin', 'annotator': 'MetaMap'}\n",
      "================\n",
      "{'CUI': 'C0006938', 'semtype': 'aapp,phsu', 'term': 'captopril', 'annotator': 'MetaMap', 'negation': 'True'}\n",
      "Present,  value = True\n",
      "{'CUI': 'C0022251', 'semtype': 'orch,phsu', 'term': 'isosorbide', 'annotator': 'MetaMap'}\n",
      "{'CUI': 'C0019134', 'semtype': 'bacs,orch,phsu', 'term': 'heparin', 'annotator': 'MetaMap', 'negation': 'True'}\n",
      "Present,  value = True\n",
      "{'CUI': 'C0699992', 'semtype': 'orch,phsu', 'term': 'Lasix', 'annotator': 'MetaMap'}\n",
      "================\n"
     ]
    }
   ],
   "source": [
    "def checkKey(dict, key):\n",
    "    \"\"\" funcion para revisar la existencia de la etiqueta 'annotation''\"\"\"\n",
    "    i=1\n",
    "    if key in dict.keys():\n",
    "        print(\"Present, \", end =\" \")\n",
    "        print(\"value =\", dict[key])\n",
    "        i=1\n",
    "    else:\n",
    "        i=0\n",
    "    return i\n",
    "\n",
    "negbio_pred = pd.DataFrame()\n",
    "present = ''\n",
    "term = ''\n",
    "for doc in collection.documents:\n",
    "    dictionary = {}\n",
    "    for i in doc.passages:\n",
    "        annotation = i.annotations\n",
    "        for j in annotation:\n",
    "            infons = j.infons\n",
    "            print(infons)\n",
    "            flag_neg = checkKey(infons, 'negation')\n",
    "            if flag_neg == 0:\n",
    "                for key, val in infons.items():\n",
    "                    if key == 'term':\n",
    "                        term = val\n",
    "                        dictionary[term] = 'Positive'\n",
    "            if flag_neg == 1: \n",
    "                for key, val in infons.items():\n",
    "                    if key == 'term':\n",
    "                        term = val\n",
    "                        dictionary[term] = 'Negative'\n",
    "    print(\"================\")\n",
    "    negbio_pred = negbio_pred.append(dictionary, ignore_index=True)\n",
    "\n",
    "negbio_pred = negbio_pred.replace(\"Positive\", 1).replace(\"Negative\", 0).fillna(0)\n",
    "negbio_pred.to_csv(\"prueba.csv\")"
   ]
  },
  {
   "cell_type": "code",
   "execution_count": 18,
   "metadata": {
    "scrolled": false
   },
   "outputs": [
    {
     "data": {
      "text/html": [
       "<div>\n",
       "<style scoped>\n",
       "    .dataframe tbody tr th:only-of-type {\n",
       "        vertical-align: middle;\n",
       "    }\n",
       "\n",
       "    .dataframe tbody tr th {\n",
       "        vertical-align: top;\n",
       "    }\n",
       "\n",
       "    .dataframe thead th {\n",
       "        text-align: right;\n",
       "    }\n",
       "</style>\n",
       "<table border=\"1\" class=\"dataframe\">\n",
       "  <thead>\n",
       "    <tr style=\"text-align: right;\">\n",
       "      <th></th>\n",
       "      <th>Lasix</th>\n",
       "      <th>Plavix</th>\n",
       "      <th>aspirin</th>\n",
       "      <th>captopril</th>\n",
       "      <th>clopidogrel</th>\n",
       "      <th>heparin</th>\n",
       "      <th>metoprolol</th>\n",
       "      <th>vancomycin</th>\n",
       "      <th>Lopressor</th>\n",
       "      <th>isosorbide</th>\n",
       "      <th>lisinopril</th>\n",
       "      <th>propofol</th>\n",
       "      <th>Antibiotics</th>\n",
       "      <th>Coumadin</th>\n",
       "      <th>Toprol-XL</th>\n",
       "    </tr>\n",
       "  </thead>\n",
       "  <tbody>\n",
       "    <tr>\n",
       "      <th>0</th>\n",
       "      <td>1.0</td>\n",
       "      <td>1.0</td>\n",
       "      <td>1.0</td>\n",
       "      <td>1.0</td>\n",
       "      <td>1.0</td>\n",
       "      <td>1.0</td>\n",
       "      <td>1.0</td>\n",
       "      <td>1.0</td>\n",
       "      <td>0.0</td>\n",
       "      <td>0.0</td>\n",
       "      <td>0.0</td>\n",
       "      <td>0.0</td>\n",
       "      <td>0.0</td>\n",
       "      <td>0.0</td>\n",
       "      <td>0.0</td>\n",
       "    </tr>\n",
       "    <tr>\n",
       "      <th>1</th>\n",
       "      <td>0.0</td>\n",
       "      <td>0.0</td>\n",
       "      <td>0.0</td>\n",
       "      <td>1.0</td>\n",
       "      <td>0.0</td>\n",
       "      <td>0.0</td>\n",
       "      <td>0.0</td>\n",
       "      <td>0.0</td>\n",
       "      <td>0.0</td>\n",
       "      <td>1.0</td>\n",
       "      <td>0.0</td>\n",
       "      <td>1.0</td>\n",
       "      <td>0.0</td>\n",
       "      <td>0.0</td>\n",
       "      <td>0.0</td>\n",
       "    </tr>\n",
       "    <tr>\n",
       "      <th>2</th>\n",
       "      <td>1.0</td>\n",
       "      <td>1.0</td>\n",
       "      <td>0.0</td>\n",
       "      <td>0.0</td>\n",
       "      <td>0.0</td>\n",
       "      <td>0.0</td>\n",
       "      <td>0.0</td>\n",
       "      <td>0.0</td>\n",
       "      <td>1.0</td>\n",
       "      <td>1.0</td>\n",
       "      <td>1.0</td>\n",
       "      <td>0.0</td>\n",
       "      <td>1.0</td>\n",
       "      <td>1.0</td>\n",
       "      <td>1.0</td>\n",
       "    </tr>\n",
       "    <tr>\n",
       "      <th>3</th>\n",
       "      <td>0.0</td>\n",
       "      <td>0.0</td>\n",
       "      <td>1.0</td>\n",
       "      <td>0.0</td>\n",
       "      <td>1.0</td>\n",
       "      <td>0.0</td>\n",
       "      <td>1.0</td>\n",
       "      <td>1.0</td>\n",
       "      <td>1.0</td>\n",
       "      <td>0.0</td>\n",
       "      <td>0.0</td>\n",
       "      <td>0.0</td>\n",
       "      <td>0.0</td>\n",
       "      <td>1.0</td>\n",
       "      <td>0.0</td>\n",
       "    </tr>\n",
       "    <tr>\n",
       "      <th>4</th>\n",
       "      <td>0.0</td>\n",
       "      <td>0.0</td>\n",
       "      <td>1.0</td>\n",
       "      <td>0.0</td>\n",
       "      <td>0.0</td>\n",
       "      <td>0.0</td>\n",
       "      <td>1.0</td>\n",
       "      <td>0.0</td>\n",
       "      <td>0.0</td>\n",
       "      <td>0.0</td>\n",
       "      <td>0.0</td>\n",
       "      <td>1.0</td>\n",
       "      <td>1.0</td>\n",
       "      <td>0.0</td>\n",
       "      <td>0.0</td>\n",
       "    </tr>\n",
       "  </tbody>\n",
       "</table>\n",
       "</div>"
      ],
      "text/plain": [
       "   Lasix  Plavix  aspirin  captopril  clopidogrel  heparin  metoprolol  \\\n",
       "0    1.0     1.0      1.0        1.0          1.0      1.0         1.0   \n",
       "1    0.0     0.0      0.0        1.0          0.0      0.0         0.0   \n",
       "2    1.0     1.0      0.0        0.0          0.0      0.0         0.0   \n",
       "3    0.0     0.0      1.0        0.0          1.0      0.0         1.0   \n",
       "4    0.0     0.0      1.0        0.0          0.0      0.0         1.0   \n",
       "\n",
       "   vancomycin  Lopressor  isosorbide  lisinopril  propofol  Antibiotics  \\\n",
       "0         1.0        0.0         0.0         0.0       0.0          0.0   \n",
       "1         0.0        0.0         1.0         0.0       1.0          0.0   \n",
       "2         0.0        1.0         1.0         1.0       0.0          1.0   \n",
       "3         1.0        1.0         0.0         0.0       0.0          0.0   \n",
       "4         0.0        0.0         0.0         0.0       1.0          1.0   \n",
       "\n",
       "   Coumadin  Toprol-XL  \n",
       "0       0.0        0.0  \n",
       "1       0.0        0.0  \n",
       "2       1.0        1.0  \n",
       "3       1.0        0.0  \n",
       "4       0.0        0.0  "
      ]
     },
     "execution_count": 18,
     "metadata": {},
     "output_type": "execute_result"
    }
   ],
   "source": [
    "negbio_pred.head()"
   ]
  },
  {
   "cell_type": "markdown",
   "metadata": {},
   "source": [
    "### ¿y para extraer todos los medicamentos?"
   ]
  },
  {
   "cell_type": "markdown",
   "metadata": {},
   "source": [
    "Usando la herramienta ligera de UMLS, conocida como: [MetaMapLite](https://metamap.nlm.nih.gov/MetaMapLite.shtml).\n",
    "- MetaMapLite puede instarlarse localmente y permite el reconocimiento de entidades (medicamentos).\n",
    "\n",
    "- Para usar MetaMapLite de forma local debe usarse la siguiente instrucción: \n",
    "`./metamaplite.sh --restrict_to_sts=orch,phsu notas/pat_100.txt`\n",
    "\n",
    "- Para identificar diferentes tipos semánticos ver la [lista completa](https://metamap.nlm.nih.gov/Docs/SemanticTypes_2018AB.txt)"
   ]
  }
 ],
 "metadata": {
  "kernelspec": {
   "display_name": "Python 3",
   "language": "python",
   "name": "python3"
  },
  "language_info": {
   "codemirror_mode": {
    "name": "ipython",
    "version": 3
   },
   "file_extension": ".py",
   "mimetype": "text/x-python",
   "name": "python",
   "nbconvert_exporter": "python",
   "pygments_lexer": "ipython3",
   "version": "3.6.9"
  }
 },
 "nbformat": 4,
 "nbformat_minor": 4
}
